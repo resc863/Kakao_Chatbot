{
  "nbformat": 4,
  "nbformat_minor": 0,
  "metadata": {
    "colab": {
      "name": "meal.ipynb",
      "provenance": [],
      "collapsed_sections": [],
      "include_colab_link": true
    },
    "kernelspec": {
      "name": "python3",
      "display_name": "Python 3"
    }
  },
  "cells": [
    {
      "cell_type": "markdown",
      "metadata": {
        "id": "view-in-github",
        "colab_type": "text"
      },
      "source": [
        "<a href=\"https://colab.research.google.com/github/resc863/Kakao_Chatbot/blob/master/meal.ipynb\" target=\"_parent\"><img src=\"https://colab.research.google.com/assets/colab-badge.svg\" alt=\"Open In Colab\"/></a>"
      ]
    },
    {
      "cell_type": "markdown",
      "metadata": {
        "id": "8CHlBjiga1l8",
        "colab_type": "text"
      },
      "source": [
        "# URL Example"
      ]
    },
    {
      "cell_type": "markdown",
      "metadata": {
        "id": "lVpfPhpSCWUi",
        "colab_type": "text"
      },
      "source": [
        "http://stu.pen.go.kr/sts_sci_md01_001.do?schulCode=C100000521&schulCrseScCode=4&schulKndScCode=04&schMmealScCode=2&schYmd=2019.11.04"
      ]
    },
    {
      "cell_type": "markdown",
      "metadata": {
        "id": "jCgyhRa6OVq2",
        "colab_type": "text"
      },
      "source": [
        "# API"
      ]
    },
    {
      "cell_type": "markdown",
      "metadata": {
        "id": "bfw8w6rTOcnb",
        "colab_type": "text"
      },
      "source": [
        "API(Application Programming Interface, 응용 프로그램 프로그래밍 인터페이스)는 응용 프로그램에서 사용할 수 있도록, 운영 체제나 프로그래밍 언어가 제공하는 기능을 제어할 수 있게 만든 인터페이스를 뜻한다.\n",
        "\n",
        "오픈 API - 하나의 웹 사이트에서 자신이 가진 기능을 이용할 수 있도록 공개한 프로그래밍 인터페이스"
      ]
    },
    {
      "cell_type": "markdown",
      "metadata": {
        "id": "Y5u522mXNXzR",
        "colab_type": "text"
      },
      "source": [
        "# 파라미터"
      ]
    },
    {
      "cell_type": "markdown",
      "metadata": {
        "id": "y6tACOzLPMzo",
        "colab_type": "text"
      },
      "source": [
        "http://stu.pen.go.kr/sts_sci_md01_001.do -> URL\n",
        "\n",
        "파라미터\n",
        "\n",
        "*   ?schulCode=C100000521\n",
        "*   &schulCrseScCode=4\n",
        "*   &schulKndScCode=04\n",
        "*   &schMmealScCode=2\n",
        "*   &schYmd=2019.11.04"
      ]
    },
    {
      "cell_type": "markdown",
      "metadata": {
        "id": "k3JRVPS-NbAq",
        "colab_type": "text"
      },
      "source": [
        "| 파라미터 | 기능 | 예시 |\n",
        "|--|--|--|\n",
        "|`schulCode`|학교 고유 코드|C100000521|\n",
        "|`schulCrseScCode`|학교 종류 코드|4 (고등학교)|\n",
        "|`schMmealScCode`|조식, 중식, 석식 코드|2 (중식)|\n",
        "|`schYmd`|날짜|2019-11-11|"
      ]
    },
    {
      "cell_type": "markdown",
      "metadata": {
        "id": "qe2hX_PnafTg",
        "colab_type": "text"
      },
      "source": [
        "# 모듈 불러오기"
      ]
    },
    {
      "cell_type": "code",
      "metadata": {
        "id": "21iE9Zk888xb",
        "colab_type": "code",
        "colab": {}
      },
      "source": [
        "from urllib.request import urlopen, Request\n",
        "from bs4 import BeautifulSoup\n",
        "import urllib\n",
        "import requests, re\n",
        "import json\n",
        "import datetime\n",
        "from datetime import date\n",
        "import time\n",
        "from copy import copy"
      ],
      "execution_count": 0,
      "outputs": []
    },
    {
      "cell_type": "code",
      "metadata": {
        "id": "rS8hMbwO0p0t",
        "colab_type": "code",
        "colab": {}
      },
      "source": [
        "def dayCal() :\n",
        "  y=str(list(time.localtime(time.time()))[0])\n",
        "  m=str(list(time.localtime(time.time()))[1])\n",
        "  d=str(list(time.localtime(time.time()))[2])\n",
        "  h=str(list(time.localtime(time.time()))[3]+9)\n",
        "  mi=str(list(time.localtime(time.time()))[4])\n",
        "  cpy,cpm,cpd,cph,cpmi = copy(y),copy(m),copy(d),copy(h),copy(mi)\n",
        "\n",
        "  if int(h) >24 :\n",
        "    h = str(int(h)-24)\n",
        "    if m == '12' and d == '31' :\n",
        "      y = str(int(y)+1)\n",
        "      m = '1'\n",
        "      d = '1'\n",
        "    elif d == '31' :\n",
        "      if m == '1' or m == '3' or m == '5' or m == '7' or m == '8' or m == '10' :\n",
        "        m = str(int(m)+1)\n",
        "        d = '1'\n",
        "    elif d == '30' :\n",
        "      if m == '4' or m == '6' or m == '9' or m == '11' :\n",
        "        m = str(int(m)+1)\n",
        "        d = '1'\n",
        "    elif d == '29' :\n",
        "      if m == '2' and int(y)%4 == 0 :\n",
        "        m = '3'\n",
        "        d = '1'\n",
        "    elif d == '28' :\n",
        "      if m == '2' and int(y)%4 != 0 :\n",
        "        m = '3'\n",
        "        d = '1'\n",
        "    else :\n",
        "      d = str(int(d)+1)\n",
        "\n",
        "  if h != '2' and h != '5' and h!= '8' and h!= '11' and h != '14' and h != '17' and h != '20' and h != '23' :\n",
        "    a = int(h)%3\n",
        "    h=str(int(h)-a-1)\n",
        "  else :\n",
        "    if int(mi)<15 :\n",
        "      h = str(int(h)-3)\n",
        "\n",
        "  if h == '-1' :\n",
        "    h = '23'\n",
        "    y,m,d = cpy,cpm,cpd\n",
        "\n",
        "  if int(h)<10 :\n",
        "    h = '0'+h\n",
        "  if int(m)<10 :\n",
        "    m = '0'+m\n",
        "  if int(d)<10 :\n",
        "    d = '0'+d\n",
        "  if int(mi)<10 :\n",
        "    mi = '0'+mi\n",
        "\n",
        "  return y,m,d,h,mi"
      ],
      "execution_count": 0,
      "outputs": []
    },
    {
      "cell_type": "markdown",
      "metadata": {
        "id": "rWMT8W7LakZE",
        "colab_type": "text"
      },
      "source": [
        "# 급식 스크레이핑 함수"
      ]
    },
    {
      "cell_type": "code",
      "metadata": {
        "id": "pjE4p3z5NAjW",
        "colab_type": "code",
        "colab": {}
      },
      "source": [
        "def get_diet(code, ymd, weekday):\n",
        "    schMmealScCode = code #int 1조식2중식3석식\n",
        "    schYmd = ymd #str 요청할 날짜 yyyy.mm.dd\n",
        "    if weekday == 5 or weekday == 6: #토요일,일요일 버림\n",
        "        element = \" \" #공백 반환\n",
        "    else:\n",
        "        num = weekday + 1 #int 요청할 날짜의 요일 0월1화2수3목4금5토6일 파싱한 데이터의 배열이 일요일부터 시작되므로 1을 더해줍니다.\n",
        "        URL = (\n",
        "                \"http://stu.pen.go.kr/sts_sci_md01_001.do?\"\n",
        "                \"schulCode=C100000521&schulCrseScCode=4\"\n",
        "                \"&schulKndScCode=04\"\n",
        "                \"&schMmealScCode=%d&schYmd=%s\" % (schMmealScCode, schYmd)\n",
        "            )\n",
        "\n",
        "        #기존 get_html 함수부분을 옮겨왔습니다.\n",
        "        html = \"\"\n",
        "        resp = requests.get(URL)\n",
        "        if resp.status_code == 200 : #사이트가 정상적으로 응답할 경우\n",
        "            html = resp.text\n",
        "        soup = BeautifulSoup(html, 'html.parser')\n",
        "        element_data = soup.find_all(\"tr\")\n",
        "        element_data = element_data[2].find_all('td')\n",
        "        try:\n",
        "            element = str(element_data[num])\n",
        "            print(element)\n",
        "\n",
        "            #filter\n",
        "            element_filter = ['[', ']', '<td class=\"textC last\">', '<td class=\"textC\">', '</td>', '&amp;', '(h)', '.']\n",
        "            for element_string in element_filter :\n",
        "                element = element.replace(element_string, '')\n",
        "            #줄 바꿈 처리\n",
        "            element = element.replace('<br/>', '\\n')\n",
        "            #모든 공백 삭제\n",
        "            element = re.sub(r\"\\d\", \"\", element)\n",
        "\n",
        "        #급식이 없을 경우\n",
        "        except:\n",
        "            element = \" \" # 공백 반환\n",
        "    return element\n",
        "\n",
        "def print_get_meal(local_date, local_weekday):\n",
        "        l_diet = get_diet(2, local_date, local_weekday)\n",
        "        d_diet = get_diet(3, local_date, local_weekday)\n",
        "\n",
        "        if len(l_diet) == 1:\n",
        "            \n",
        "            \n",
        "            return \"급식이 없습니다\"\n",
        "        elif len(d_diet) == 1:\n",
        "            lunch = local_date + \" 중식\\n\\n\" + l_diet\n",
        "            return lunch\n",
        "        else:\n",
        "            lunch = local_date + \" 중식\\n\\n\" + l_diet + \"\\n\"\n",
        "            dinner = local_date + \" 석식\\n\\n\" + d_diet\n",
        "            meal = lunch + dinner\n",
        "            return meal"
      ],
      "execution_count": 0,
      "outputs": []
    },
    {
      "cell_type": "markdown",
      "metadata": {
        "id": "fJT0AlxfbG1W",
        "colab_type": "text"
      },
      "source": [
        "# 날짜"
      ]
    },
    {
      "cell_type": "markdown",
      "metadata": {
        "id": "KHOnZWk_Qjae",
        "colab_type": "text"
      },
      "source": [
        "**datetime 모듈**\n",
        "\n",
        "| 클래스 | 내용 |\n",
        "|--|--|\n",
        "|`class datetime.date`|그레고리력 날짜|\n",
        "|`class datetime.time`|시간을 시,분,초,마이크로 초,시간대로 나타냄|\n",
        "|`class datetime.datetime`|date클래스와 time클래스의 조합으로 년,월,일,시,분,초,마이크로 초, 시간대 정보를 나타냄|"
      ]
    },
    {
      "cell_type": "code",
      "metadata": {
        "id": "7KRTc8IMP-pI",
        "colab_type": "code",
        "outputId": "b8bfaae4-7ad8-4edb-e9c3-ebffeb26a6c6",
        "colab": {
          "base_uri": "https://localhost:8080/",
          "height": 35
        }
      },
      "source": [
        "print(date.today())"
      ],
      "execution_count": 46,
      "outputs": [
        {
          "output_type": "stream",
          "text": [
            "2019-12-04\n"
          ],
          "name": "stdout"
        }
      ]
    },
    {
      "cell_type": "code",
      "metadata": {
        "id": "xpKBYrNmNHGH",
        "colab_type": "code",
        "outputId": "24d011dc-1490-4d90-d26c-ba43b182025c",
        "colab": {
          "base_uri": "https://localhost:8080/",
          "height": 593
        }
      },
      "source": [
        "print(\"=================================================\")\n",
        "print(\"=                                               =\")\n",
        "print(\"=       양운고등학교 급식 검색 시스템           =\")\n",
        "print(\"=                                               =\")\n",
        "print(\"=================================================\")\n",
        "\n",
        "\n",
        "today = date.today()\n",
        "print(today)\n",
        "today = str(today).replace(\"-\", \".\")\n",
        "s = today.replace('.', ', ') #한자리수 달인 경우를 해결하기위함\n",
        "print(s[6:8])\n",
        "\n",
        "if int(s[6:8]) < 10:\n",
        "    s = s.replace(s[6:8], s[7:8])\n",
        "\n",
        "try : \n",
        "    whatday = datetime.datetime.now().weekday()\n",
        "except :\n",
        "    meal = 'error'\n",
        "print(\"\\n\")\n",
        "print(\"검색중...\")\n",
        "\n",
        "meal = print_get_meal(today, whatday)\n",
        "\n",
        "print(\"\\n\")\n",
        "print(meal)"
      ],
      "execution_count": 47,
      "outputs": [
        {
          "output_type": "stream",
          "text": [
            "=================================================\n",
            "=                                               =\n",
            "=       양운고등학교 급식 검색 시스템           =\n",
            "=                                               =\n",
            "=================================================\n",
            "2019-12-04\n",
            "12\n",
            "\n",
            "\n",
            "검색중...\n",
            "<td class=\"textC\">나물비빔밥(약고추장)5.6.10.13.<br/>방울어묵볶음1.5.6.13.<br/>대만식지파이(양2)5.6.15.16.<br/>김치9.13.<br/>들깨시락국(센)5.6.13.18.<br/></td>\n",
            "<td class=\"textC\">햄야채볶음밥2.5.6.10.13.<br/>짜장(김)2.5.6.10.13.16.18.<br/>실파계란국-두부X1.5.6.13.<br/>해쉬브라운5.12.13.<br/>김치9.13.18.<br/>꼬들단무지무침13.<br/>초코우유(양2)2.5.<br/></td>\n",
            "\n",
            "\n",
            "2019.12.04 중식\n",
            "\n",
            "나물비빔밥(약고추장)\n",
            "방울어묵볶음\n",
            "대만식지파이(양)\n",
            "김치\n",
            "들깨시락국(센)\n",
            "\n",
            "2019.12.04 석식\n",
            "\n",
            "햄야채볶음밥\n",
            "짜장(김)\n",
            "실파계란국-두부X\n",
            "해쉬브라운\n",
            "김치\n",
            "꼬들단무지무침\n",
            "초코우유(양)\n",
            "\n"
          ],
          "name": "stdout"
        }
      ]
    },
    {
      "cell_type": "markdown",
      "metadata": {
        "id": "ug-KXWsTkLEU",
        "colab_type": "text"
      },
      "source": [
        "# 내일 급식"
      ]
    },
    {
      "cell_type": "code",
      "metadata": {
        "id": "QedS7kQ5kJ2N",
        "colab_type": "code",
        "colab": {
          "base_uri": "https://localhost:8080/",
          "height": 575
        },
        "outputId": "8ea72fd4-82fe-4090-ecdf-b5a746d500fe"
      },
      "source": [
        "print(\"=================================================\")\n",
        "print(\"=                                               =\")\n",
        "print(\"=       양운고등학교 급식 검색 시스템           =\")\n",
        "print(\"=                                               =\")\n",
        "print(\"=================================================\")\n",
        "\n",
        "y,m,d,h,mi = dayCal()\n",
        "if m == '12' and d == '31' :\n",
        "  y = str(int(y)+1)\n",
        "  m = '1'\n",
        "  d = '1'\n",
        "elif d == '31' :\n",
        "  if m == '1' or m == '3' or m == '5' or m == '7' or m == '8' or m == '10' :\n",
        "    m = str(int(m)+1)\n",
        "    d = '1'\n",
        "elif d == '30' :\n",
        "  if m == '4' or m == '6' or m == '9' or m == '11' :\n",
        "    m = str(int(m)+1)\n",
        "    d = '1'\n",
        "elif d == '29' :\n",
        "  if m == '2' and int(y)%4 == 0 :\n",
        "    m = '3'\n",
        "    d = '1'\n",
        "elif d == '28' :\n",
        "  if m == '2' and int(y)%4 != 0 :\n",
        "    m = '3'\n",
        "    d = '1'\n",
        "else :\n",
        "  d = str(int(d)+1)\n",
        "if int(h)<10 :\n",
        "  h = '0'+h\n",
        "if int(m)<10 :\n",
        "  m = '0'+m\n",
        "if int(d)<10 :\n",
        "  d = '0'+d\n",
        "if int(mi)<10 :\n",
        "  mi = '0'+mi\n",
        "tomorrow = y+'.'+m+'.'+d\n",
        "\n",
        "print(tomorrow)\n",
        "\n",
        "try : \n",
        "    whatday = time.localtime().tm_wday+1\n",
        "    if whatday == 7 :\n",
        "      whatday = 0\n",
        "except :\n",
        "    meal = 'error'\n",
        "print(\"\\n\")\n",
        "print(\"검색중...\")\n",
        "\n",
        "meal = print_get_meal(tomorrow, whatday)\n",
        "\n",
        "print(\"\\n\")\n",
        "print(meal)"
      ],
      "execution_count": 48,
      "outputs": [
        {
          "output_type": "stream",
          "text": [
            "=================================================\n",
            "=                                               =\n",
            "=       양운고등학교 급식 검색 시스템           =\n",
            "=                                               =\n",
            "=================================================\n",
            "2019.12.05\n",
            "\n",
            "\n",
            "검색중...\n",
            "<td class=\"textC\">현미밥<br/>쇠고기무국5.6.13.16.18.<br/>돈육두루치기5.6.10.13.<br/>김치9.13.<br/>계란찜(양2)1.<br/>양배추겉절이(센2)5.6.18.<br/></td>\n",
            "<td class=\"textC\">녹두밥<br/>석박지9.13.<br/>양반김13.<br/>닭개장(센-국x)1.5.6.13.15.18.<br/>새우살호박볶음9.13.<br/>두부구이/양념장(센)5.6.13.18.<br/></td>\n",
            "\n",
            "\n",
            "2019.12.05 중식\n",
            "\n",
            "현미밥\n",
            "쇠고기무국\n",
            "돈육두루치기\n",
            "김치\n",
            "계란찜(양)\n",
            "양배추겉절이(센)\n",
            "\n",
            "2019.12.05 석식\n",
            "\n",
            "녹두밥\n",
            "석박지\n",
            "양반김\n",
            "닭개장(센-국x)\n",
            "새우살호박볶음\n",
            "두부구이/양념장(센)\n",
            "\n"
          ],
          "name": "stdout"
        }
      ]
    }
  ]
}
