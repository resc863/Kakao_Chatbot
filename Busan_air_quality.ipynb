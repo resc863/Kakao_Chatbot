{
  "nbformat": 4,
  "nbformat_minor": 0,
  "metadata": {
    "colab": {
      "name": "부산시 대기질정보 파싱 스크립트.ipynb",
      "provenance": [],
      "collapsed_sections": [],
      "include_colab_link": true
    },
    "kernelspec": {
      "name": "python3",
      "display_name": "Python 3"
    }
  },
  "cells": [
    {
      "cell_type": "markdown",
      "metadata": {
        "id": "view-in-github",
        "colab_type": "text"
      },
      "source": [
        "<a href=\"https://colab.research.google.com/github/resc863/Kakao_Chatbot/blob/master/Busan_air_quality.ipynb\" target=\"_parent\"><img src=\"https://colab.research.google.com/assets/colab-badge.svg\" alt=\"Open In Colab\"/></a>"
      ]
    },
    {
      "cell_type": "code",
      "metadata": {
        "id": "i_s6VTUq_a2p",
        "colab_type": "code",
        "colab": {}
      },
      "source": [
        "from bs4 import BeautifulSoup\n",
        "import requests\n",
        "import json\n",
        "from urllib.request import urlopen"
      ],
      "execution_count": 0,
      "outputs": []
    },
    {
      "cell_type": "code",
      "metadata": {
        "id": "IKyexUgSc7RM",
        "colab_type": "code",
        "colab": {}
      },
      "source": [
        "def dating(self) :\n",
        "  self = str(self)\n",
        "  y = self[:4]\n",
        "  m = self[4:6]\n",
        "  d = self[6:8]\n",
        "  if len(self) == 10 :\n",
        "    h = self[8:10]\n",
        "    return y+\"년 \"+m+\"월 \"+d+\"일 \"+h+\"시\"\n",
        "  return y+\"년 \"+m+\"월 \"+d+\"일\""
      ],
      "execution_count": 0,
      "outputs": []
    },
    {
      "cell_type": "code",
      "metadata": {
        "id": "21EKcCFG_kj0",
        "colab_type": "code",
        "colab": {}
      },
      "source": [
        "def get_micro(ar) : #대기질 정보 파싱 함수\n",
        "  area = {'광복동':'221112', '초량동':'221131', '태종대':'221141', '전포동':'221152', '온천동':'221162','명장동':'221163', '대연동':'221172', '학장동':'221181', '덕천동':'221182', '청룡동':'221191', '좌동':'221192', '장림동':'221202', '대저동':'221211', '녹산동':'221212', '연산동':'221221', '기장음':'221231', '용수리':'221233', '수정동':'221241', '부곡동':'221251', '광안동':'221271', '대신동':'221281'}\n",
        "  #측정기 지역 및 지역 번호\n",
        "  key = 'hfXBU%2F2bNc8JXOh7HEbPiUMsOdTRBfrp45ImTLFwlLE3SdgORIr7zv%2BtP5xcl2enExGdWLFxX5tyA7SzQyFNKA%3D%3D'\n",
        "  #발급받은 공공 인증키\n",
        "  url = 'http://apis.data.go.kr/6260000/AirQualityInfoService/getAirQualityInfoClassifiedByStation?serviceKey='+key+'&numOfRows=1&resultType=json&areaIndex='\n",
        "  #파싱할 json의 url\n",
        "\n",
        "  ar = str(ar)\n",
        "  #지역 입력\n",
        "\n",
        "  if ar == \"주소\" :\n",
        "    for i in area.keys() :\n",
        "      p =print(i+\" : '\"+url+area[i]+\"'\")\n",
        "  #명령이 '주소'라면 모든 지역의 json주소를 출력\n",
        "  elif ar not in area.keys() : \n",
        "    p = print(\"검색불가\")\n",
        "  #존재하지 않은 지역이라면 \"fail\"출력 후 함수 탈출\n",
        "  else :\n",
        "    rs = urlopen(url+area[ar]).read().decode('utf-8')\n",
        "    #url주소를 읽어 내용을 'utf-8'형식으로 디코딩하여 문자열 반환ㅌ\n",
        "    json_data = json.loads(rs)\n",
        "    #반환한 문자열을 json형식으로 읽음\n",
        "    info = json_data.get(\"getAirQualityInfoClassifiedByStation\").get(\"item\")[0]\n",
        "    #필요한 정보부분만 따로 추출\n",
        "\n",
        "    controlnumber = dating(info.get(\"controlnumber\"))\n",
        "    #측정시간\n",
        "    pm10 = info.get(\"pm10\")\n",
        "    #pm10\n",
        "    if info.get(\"pm10Cai\") == '1' :\n",
        "      pm10Cai = \"좋음\" \n",
        "    elif info.get(\"pm10Cai\") == '2' : \n",
        "      pm10Cai = \"보통\" \n",
        "    elif info.get(\"pm10Cai\") == '3' :\n",
        "      pm10Cai = \"나쁨\"\n",
        "    elif info.get(\"pm10Cai\") == '4' :\n",
        "      pm10Cai = \"매우나쁨\"\n",
        "    else :\n",
        "      pm10Cai = \"측정불가\"\n",
        "    #pm10 지수\n",
        "    pm25 = info.get(\"pm25\")\n",
        "    #pm25\n",
        "    if info.get(\"pm25Cai\") == '1' :\n",
        "      pm25Cai = \"좋음\" \n",
        "    elif info.get(\"pm25Cai\") == '2' : \n",
        "      pm25Cai = \"보통\" \n",
        "    elif info.get(\"pm25Cai\") == '3' :\n",
        "      pm25Cai = \"나쁨\"\n",
        "    elif info.get(\"pm25Cai\") == '4' :\n",
        "      pm25Cai = \"매우나쁨\"\n",
        "    else :\n",
        "      pm25Cai = \"측정불가\"\n",
        "    #pm2.5 지수\n",
        "\n",
        "    p = print(\"측정 정보\\n\\n\"+controlnumber+\"에 측정됨\\n\\npm10 (미세먼지) : \"+pm10+\"μm/m³ (\"+pm10Cai+\")\\npm2.5 (초미세먼지) : \"+pm25+\"μm/m³ (\"+pm25Cai+\")\")\n",
        "  return p"
      ],
      "execution_count": 0,
      "outputs": []
    }
  ]
}