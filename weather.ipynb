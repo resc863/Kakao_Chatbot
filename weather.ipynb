{
  "nbformat": 4,
  "nbformat_minor": 0,
  "metadata": {
    "colab": {
      "name": "weather.ipynb",
      "provenance": [],
      "collapsed_sections": [],
      "include_colab_link": true
    },
    "kernelspec": {
      "name": "python3",
      "display_name": "Python 3"
    }
  },
  "cells": [
    {
      "cell_type": "markdown",
      "metadata": {
        "id": "view-in-github",
        "colab_type": "text"
      },
      "source": [
        "<a href=\"https://colab.research.google.com/github/resc863/Kakao_Chatbot/blob/master/weather.ipynb\" target=\"_parent\"><img src=\"https://colab.research.google.com/assets/colab-badge.svg\" alt=\"Open In Colab\"/></a>"
      ]
    },
    {
      "cell_type": "code",
      "metadata": {
        "id": "i_s6VTUq_a2p",
        "colab_type": "code",
        "colab": {}
      },
      "source": [
        "from bs4 import BeautifulSoup\n",
        "import requests\n",
        "import json\n",
        "from urllib.request import urlopen\n",
        "import time"
      ],
      "execution_count": 0,
      "outputs": []
    },
    {
      "cell_type": "code",
      "metadata": {
        "id": "21EKcCFG_kj0",
        "colab_type": "code",
        "colab": {}
      },
      "source": [
        "def forecast() : #날씨 예보 파싱 함수\n",
        "  y=str(list(time.localtime(time.time()))[0])\n",
        "  m=str(list(time.localtime(time.time()))[1])\n",
        "  d=str(list(time.localtime(time.time()))[2])\n",
        "  h=str(list(time.localtime(time.time()))[3]+9)\n",
        "  mi=str(list(time.localtime(time.time()))[4])\n",
        "  \n",
        "  if int(h) >24 :\n",
        "    h = str(int(h)-24)\n",
        "    d = str(int(d)+1)\n",
        "  if h != '2' and h != '5' and h!= '8' and h!= '11' and h != '14' and h != '17' and h != '20' and h != '23' :\n",
        "    a = int(h)%3\n",
        "    h=str(int(h)-a-1)\n",
        "\n",
        "    if int(mi)<15 :\n",
        "      h = int(h)-3\n",
        "\n",
        "    if h == '-1' :\n",
        "      h = '23'\n",
        "    elif h == '-4' :\n",
        "      h = '20'\n",
        "  if int(h)<10 :\n",
        "    h = '0'+h\n",
        "  \n",
        "\n",
        "  key = 'ExhrDuBJZ28eMHPRIyFToDuqoT1Lx3ViPoI3uKVLS%2FyucnbaLbQISs4%2FSJWf0AzAV1gkbbtZK5GWvO9clF%2B1aQ%3D%3D'\n",
        "  #발급받은 인증키\n",
        "  url = 'http://newsky2.kma.go.kr/service/SecndSrtpdFrcstInfoService2/ForecastSpaceData?serviceKey='+key+'&base_date='+y+m+d+'&base_time='+h+'00&nx=99&ny=75&numOfRows=90&pageNo=1&_type=json'\n",
        "  #파싱할 json의 url\n",
        "  \n",
        "  rs = urlopen(url).read().decode('utf-8')\n",
        "  #url주소를 읽어 내용을 'utf-8'형식으로 디코딩하여 문자열 반환\n",
        "  json_data = json.loads(rs)\n",
        "  #반환한 문자열을 json형식으로 읽음\n",
        "  info = json_data.get(\"response\").get(\"body\").get(\"items\").get(\"item\")\n",
        "  #필요한 정보부분만 따로 추출\n",
        "\n",
        "  ft = str(info[0].get(\"fcstTime\"))\n",
        "  pop = ''\n",
        "  pty = ''\n",
        "  reh = ''\n",
        "  sky = ''\n",
        "  t3h = ''\n",
        "  tmn = ''\n",
        "  tmx = ''\n",
        "  vec = ''\n",
        "  wsd = ''\n",
        "  apm = ''\n",
        "  for i in range(len(info)) :\n",
        "    cate = info[i].get(\"category\");\n",
        "    value = str(info[i].get(\"fcstValue\"))\n",
        "    if str(info[i].get(\"fcstTime\")) == ft :\n",
        "      if cate == 'POP' :\n",
        "        pop = value\n",
        "        #강수확률\n",
        "      elif cate == 'PTY' :\n",
        "        if value == '1' :\n",
        "          pty = ', 비'\n",
        "        elif value == '2' :\n",
        "          pty = ', 비/눈'\n",
        "        elif value == '3' :\n",
        "          pty = ', 눈/비'\n",
        "        elif value == '4' :\n",
        "          pty = ', 눈'\n",
        "        #강수형태\n",
        "      elif cate == 'REH' :\n",
        "        reh = value\n",
        "        #습도\n",
        "      elif cate == 'SKY' :\n",
        "        if value == '1' :\n",
        "          sky = '맑음'\n",
        "        elif value == '2' :\n",
        "          sky = '구름조금'\n",
        "        elif value == '3' :\n",
        "          sky = '구름많음'\n",
        "        elif value == '4' :\n",
        "          sky = '흐림'\n",
        "        #하늘상태\n",
        "      elif cate == 'T3H' :\n",
        "        t3h = value\n",
        "        #3시간 기온\n",
        "      elif cate == 'WSD' :\n",
        "        wsd = value\n",
        "        #풍속\n",
        "    if str(info[i].get(\"fcstTime\")) == '1500' :\n",
        "      if cate == 'TMX' :\n",
        "        tmx = value\n",
        "    if str(info[i].get(\"fcstTime\")) == '0600' :\n",
        "      if cate == 'TMN' :\n",
        "        tmn = value\n",
        "        \n",
        "  if int(ft) < 1200 :\n",
        "    apm = '오전 '\n",
        "  elif int(ft) == 1200 :\n",
        "    apm = '정오 '\n",
        "  else :\n",
        "    apm = '오후 '\n",
        "    ft = str(int(ft)-1200)\n",
        "    if int(ft) < 1000 :\n",
        "      ft = '0'+ft\n",
        "\n",
        "  p = apm+ft[:2]+':'+ft[2:]+' 예보\\n\\n최고 : '+tmx+'°C  최저 : '+tmn+'°C\\n'+sky+pty+'\\n'+t3h+'°C\\n습도 : '+reh+'%\\n강수확률 : '+pop+'%\\n풍속 : '+wsd+'m/s'\n",
        " \n",
        "  return p"
      ],
      "execution_count": 0,
      "outputs": []
    },
    {
      "cell_type": "code",
      "metadata": {
        "id": "wlxmKB18oOtT",
        "colab_type": "code",
        "outputId": "5c21686f-c7b6-485b-ff93-4f2cf7fee00e",
        "colab": {
          "base_uri": "https://localhost:8080/",
          "height": 161
        }
      },
      "source": [
        "print(forecast())"
      ],
      "execution_count": 3,
      "outputs": [
        {
          "output_type": "stream",
          "text": [
            "오후 09:00 예보\n",
            "\n",
            "최고 : 15.0°C  최저 : 7.0°C\n",
            "맑음\n",
            "7°C\n",
            "습도 : 40%\n",
            "강수확률 : 0%\n",
            "풍속 : 2.8m/s\n"
          ],
          "name": "stdout"
        }
      ]
    }
  ]
}