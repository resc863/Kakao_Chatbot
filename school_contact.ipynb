{
  "nbformat": 4,
  "nbformat_minor": 0,
  "metadata": {
    "colab": {
      "name": "학교 내선 번호.ipynb",
      "provenance": [],
      "collapsed_sections": [],
      "include_colab_link": true
    },
    "kernelspec": {
      "name": "python3",
      "display_name": "Python 3"
    }
  },
  "cells": [
    {
      "cell_type": "markdown",
      "metadata": {
        "id": "view-in-github",
        "colab_type": "text"
      },
      "source": [
        "<a href=\"https://colab.research.google.com/github/resc863/Kakao_Chatbot/blob/master/school_contact.ipynb\" target=\"_parent\"><img src=\"https://colab.research.google.com/assets/colab-badge.svg\" alt=\"Open In Colab\"/></a>"
      ]
    },
    {
      "cell_type": "code",
      "metadata": {
        "id": "loSMdZNqcuJn",
        "colab_type": "code",
        "colab": {}
      },
      "source": [
        "import random"
      ],
      "execution_count": 0,
      "outputs": []
    },
    {
      "cell_type": "code",
      "metadata": {
        "id": "TKM2ARctqpbh",
        "colab_type": "code",
        "colab": {}
      },
      "source": [
        "def repl(self) :\n",
        "  a = self.replace(' ', '')\n",
        "  return a\n"
      ],
      "execution_count": 0,
      "outputs": []
    },
    {
      "cell_type": "code",
      "metadata": {
        "colab_type": "code",
        "id": "54EiDX43qCA2",
        "colab": {}
      },
      "source": [
        "def call(msg) : \n",
        "  call = {'교무실' :'702-0692',\n",
        "          '행정실' : '702-0691',\n",
        "          '교무실팩스' : '702-0686', \n",
        "          '행정실팩스' : '702-0694', \n",
        "          '교무기획부' : '709-7621', \n",
        "          '교육과정부' : '709-7631', \n",
        "          '생활안전부' : '709-7650', \n",
        "          '교육정보부' : '709-7650', \n",
        "          '방과후교육부' : '709-7645', \n",
        "          '진로교육부' : '709-7642', \n",
        "          '인문사회부' : '709-7656', \n",
        "          '자연과학부' : '709-7690', \n",
        "          '예체능교육부' : '709-7615', \n",
        "          '3학년교육부' : '709-7660', \n",
        "          '2학년교육부' : '709-7623', \n",
        "          '1학년교육부' : '709-7685', \n",
        "          '행정실민원' : '7097605', \n",
        "          '보건실' : '709-7653', \n",
        "          '도서실' : '709-7687', \n",
        "          '급식실' : '709-7608', '위클래스' : '709-7658'}\n",
        "\n",
        "  k = repl(msg)\n",
        "  rand = random.random()\n",
        "  if k in call.keys() :\n",
        "    a = print(k+'의 내선번호 : '+call[k])\n",
        "  elif k == '강태경' and int(rand*100) == 0 :\n",
        "    a = print('개발자의 이름')\n",
        "  else :\n",
        "    a = print('검색불가')\n",
        "  return a"
      ],
      "execution_count": 0,
      "outputs": []
    }
  ]
}